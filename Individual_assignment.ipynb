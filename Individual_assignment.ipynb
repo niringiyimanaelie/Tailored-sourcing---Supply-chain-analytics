{
 "cells": [
  {
   "cell_type": "markdown",
   "metadata": {},
   "source": [
    "Question 1"
   ]
  },
  {
   "cell_type": "code",
   "execution_count": 1,
   "metadata": {},
   "outputs": [
    {
     "name": "stderr",
     "output_type": "stream",
     "text": [
      "c:\\Users\\Hp\\anaconda3\\lib\\site-packages\\numpy\\_distributor_init.py:30: UserWarning: loaded more than 1 DLL from .libs:\n",
      "c:\\Users\\Hp\\anaconda3\\lib\\site-packages\\numpy\\.libs\\libopenblas.FB5AE2TYXYH2IJRDKGDGQ3XBKLKTF43H.gfortran-win_amd64.dll\n",
      "c:\\Users\\Hp\\anaconda3\\lib\\site-packages\\numpy\\.libs\\libopenblas64__v0.3.21-gcc_10_3_0.dll\n",
      "  warnings.warn(\"loaded more than 1 DLL from .libs:\"\n"
     ]
    },
    {
     "name": "stdout",
     "output_type": "stream",
     "text": [
      "Independent Sourcing Total Cost: 3073.9153138822376\n"
     ]
    }
   ],
   "source": [
    "import numpy as np\n",
    "\n",
    "# Provided data\n",
    "annual_demand = np.array([1000, 300, 100, 50])  # Annual demand for each of the four products\n",
    "common_ordering_cost = 100  # Common ordering cost for all products\n",
    "common_ordering_cost = 100 + 10 + 20 + 25 + 25\n",
    "product_specific_ordering_costs = np.array([10, 20, 25, 25])  # Ordering costs specific to each product\n",
    "product_specific_ordering_costs = np.array([110, 120, 125, 125])\n",
    "unit_costs = np.array([50, 60, 30, 30])  # Unit cost for each of the four products\n",
    "holding_cost_rate = 0.2  # Holding cost rate\n",
    "\n",
    "# Calculate holding costs for each product\n",
    "holding_costs = holding_cost_rate * unit_costs\n",
    "\n",
    "# Independent Sourcing Strategy\n",
    "EOQ_independent = np.sqrt((2 * annual_demand * product_specific_ordering_costs) / holding_costs)\n",
    "total_cost_independent = (annual_demand / EOQ_independent) * product_specific_ordering_costs + (EOQ_independent / 2) * holding_costs\n",
    "\n",
    "# Output the results\n",
    "print(\"Independent Sourcing Total Cost:\", total_cost_independent.sum())\n"
   ]
  },
  {
   "cell_type": "markdown",
   "metadata": {},
   "source": [
    "Question 2"
   ]
  },
  {
   "cell_type": "code",
   "execution_count": 2,
   "metadata": {},
   "outputs": [
    {
     "data": {
      "text/plain": [
       "2284.7319317591728"
      ]
     },
     "execution_count": 2,
     "metadata": {},
     "output_type": "execute_result"
    }
   ],
   "source": [
    "import math\n",
    "S_star = 100 + 10 + 20 + 25 + 25\n",
    "products = {\n",
    "    \"1\": {\"D\": 1000, \"H\": 0.2, \"C\": 50},\n",
    "    \"2\": {\"D\": 300, \"H\": 0.2, \"C\": 60},\n",
    "    \"3\": {\"D\": 100, \"H\": 0.2, \"C\": 30},\n",
    "    \"4\": {\"D\": 50, \"H\": 0.2, \"C\": 30}\n",
    "}\n",
    "\n",
    "nominator = sum([details[\"D\"] * details[\"H\"] * details[\"C\"] for details in products.values()])\n",
    "n_star = math.sqrt(nominator / (2 * S_star))\n",
    "\n",
    "for product, details in products.items():\n",
    "    details[\"Optimal Order Size\"] = details[\"D\"] / n_star\n",
    "    details[\"Annual Holding Cost\"] = details[\"Optimal Order Size\"] * details[\"H\"] * details[\"C\"] / 2\n",
    "\n",
    "annual_order_cost_aggregation = n_star * S_star\n",
    "total_annual_cost_aggregation = annual_order_cost_aggregation + sum([details[\"Annual Holding Cost\"] for details in products.values()])\n",
    "\n",
    "order_frequency_aggregation = n_star\n",
    "for product in products:\n",
    "    products[product][\"Order Frequency\"] = order_frequency_aggregation\n",
    "\n",
    "total_annual_cost_aggregation"
   ]
  },
  {
   "cell_type": "markdown",
   "metadata": {},
   "source": [
    "Question 3"
   ]
  },
  {
   "cell_type": "code",
   "execution_count": 4,
   "metadata": {},
   "outputs": [
    {
     "name": "stdout",
     "output_type": "stream",
     "text": [
      "Tailored Aggregation Total Cost: 2838.1304269729926\n"
     ]
    }
   ],
   "source": [
    "import numpy as np\n",
    "\n",
    "# Provided data\n",
    "annual_demand = np.array([1000, 300, 100, 50])  # Annual demand for each of the four products\n",
    "common_ordering_cost = 100  # Common ordering cost for all products\n",
    "common_ordering_cost = 100 + 10 + 20 + 25 + 25\n",
    "product_specific_ordering_costs = np.array([10, 20, 25, 25])  # Ordering costs specific to each product\n",
    "product_specific_ordering_costs = np.array([110, 120, 125, 125])\n",
    "unit_costs = np.array([50, 60, 30, 30])  # Unit cost for each of the four products\n",
    "holding_cost_rate = 0.2  # Holding cost rate\n",
    "\n",
    "# Calculate holding costs for each product\n",
    "holding_costs = holding_cost_rate * unit_costs\n",
    "group_1_indices = [0, 1]\n",
    "group_2_indices = [2, 3]\n",
    "# Calculate EOQ and total cost for each group\n",
    "def calculate_group_cost(indices, common_cost):\n",
    "    D_group = np.sum(annual_demand[indices])\n",
    "    H_group_average = np.mean(holding_costs[indices])\n",
    "    EOQ_group = np.sqrt((2 * D_group * common_cost) / H_group_average)\n",
    "    total_cost_group = (D_group / EOQ_group) * common_cost + (EOQ_group / 2) * H_group_average\n",
    "    return total_cost_group\n",
    "\n",
    "total_cost_group_1 = calculate_group_cost(group_1_indices, common_ordering_cost)\n",
    "total_cost_group_2 = calculate_group_cost(group_2_indices, common_ordering_cost)\n",
    "total_cost_tailored = total_cost_group_1 + total_cost_group_2\n",
    "\n",
    "# Output the results\n",
    "print(\"Tailored Aggregation Total Cost:\", total_cost_tailored)\n"
   ]
  }
 ],
 "metadata": {
  "kernelspec": {
   "display_name": "base",
   "language": "python",
   "name": "python3"
  },
  "language_info": {
   "codemirror_mode": {
    "name": "ipython",
    "version": 3
   },
   "file_extension": ".py",
   "mimetype": "text/x-python",
   "name": "python",
   "nbconvert_exporter": "python",
   "pygments_lexer": "ipython3",
   "version": "3.8.18"
  }
 },
 "nbformat": 4,
 "nbformat_minor": 2
}
